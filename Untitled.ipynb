{
 "cells": [
  {
   "cell_type": "code",
   "execution_count": 1,
   "id": "b59a1ae0-c775-42cc-a739-d4bdb913ff5c",
   "metadata": {},
   "outputs": [],
   "source": [
    "test = 1"
   ]
  },
  {
   "cell_type": "code",
   "execution_count": 2,
   "id": "32511f07-1a01-4d0e-8924-9a46d8841f1f",
   "metadata": {},
   "outputs": [
    {
     "name": "stdout",
     "output_type": "stream",
     "text": [
      "something\n",
      "something\n",
      "something\n",
      "something\n",
      "something\n"
     ]
    }
   ],
   "source": [
    "for i in range(5):\n",
    "    print(\"something\")"
   ]
  },
  {
   "cell_type": "code",
   "execution_count": 3,
   "id": "4f11e00b-4e3b-47b3-96dc-e3d1392d3006",
   "metadata": {},
   "outputs": [
    {
     "name": "stdout",
     "output_type": "stream",
     "text": [
      "this is the change i made in branch 1\n"
     ]
    }
   ],
   "source": [
    "print(\"this is the change i made in branch 1\")"
   ]
  },
  {
   "cell_type": "code",
   "execution_count": null,
   "id": "19b5f961-a404-4d14-9995-f54e75ec7520",
   "metadata": {},
   "outputs": [],
   "source": []
  }
 ],
 "metadata": {
  "kernelspec": {
   "display_name": "Python 3 (ipykernel)",
   "language": "python",
   "name": "python3"
  },
  "language_info": {
   "codemirror_mode": {
    "name": "ipython",
    "version": 3
   },
   "file_extension": ".py",
   "mimetype": "text/x-python",
   "name": "python",
   "nbconvert_exporter": "python",
   "pygments_lexer": "ipython3",
   "version": "3.12.1"
  }
 },
 "nbformat": 4,
 "nbformat_minor": 5
}
